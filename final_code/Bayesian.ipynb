{
 "cells": [
  {
   "cell_type": "code",
   "execution_count": 26,
   "id": "e8597709",
   "metadata": {},
   "outputs": [],
   "source": [
    "import os\n",
    "import PIL\n",
    "import numpy as np\n",
    "import pandas as pd\n",
    "import matplotlib.pyplot as plt\n",
    "import pickle\n",
    "import h5py\n",
    "import cv2\n",
    "%matplotlib inline"
   ]
  },
  {
   "cell_type": "code",
   "execution_count": 27,
   "id": "216a6849",
   "metadata": {},
   "outputs": [],
   "source": [
    "labels = []"
   ]
  },
  {
   "cell_type": "code",
   "execution_count": 28,
   "id": "be9298ed",
   "metadata": {},
   "outputs": [],
   "source": [
    "filename = None\n",
    "\n",
    "for filename in range(1, 3065):\n",
    "    with h5py.File('./brain_tumor_dataset/imageData/{}.mat'.format(filename), 'r') as f:\n",
    "        label = f['cjdata']['label'][0][0] - 1\n",
    "        labels.append(int(label))"
   ]
  },
  {
   "cell_type": "code",
   "execution_count": 29,
   "id": "ebef226e",
   "metadata": {},
   "outputs": [],
   "source": [
    "for i in range(len(labels)):\n",
    "    if(labels[i]==0):\n",
    "        labels[i] = \"glioma\"\n",
    "    elif(labels[i]==1):\n",
    "        labels[i] = \"meningioma\"\n",
    "    else:\n",
    "        labels[i] = \"pituitary\""
   ]
  },
  {
   "cell_type": "code",
   "execution_count": 30,
   "id": "f8659f6c",
   "metadata": {},
   "outputs": [],
   "source": [
    "def importing_data(path):\n",
    "    sample = []\n",
    "    for filename in os.listdir(path):\n",
    "        if \"jpg\" in filename:\n",
    "            sample.append(filename)\n",
    "    return sample"
   ]
  },
  {
   "cell_type": "code",
   "execution_count": 31,
   "id": "f5bb40ac",
   "metadata": {},
   "outputs": [],
   "source": [
    "path = './brain_tumor_dataset/bt_images/'\n",
    "train = importing_data(path)\n",
    "\n",
    "train_data = pd.DataFrame({'image':train, 'label': labels})"
   ]
  },
  {
   "cell_type": "code",
   "execution_count": 32,
   "id": "4e8157ca",
   "metadata": {},
   "outputs": [],
   "source": [
    "from sklearn.model_selection import train_test_split\n",
    "X_train, X_val = train_test_split(train_data, test_size = 0.1, shuffle = True, random_state = 42)"
   ]
  },
  {
   "cell_type": "code",
   "execution_count": 33,
   "id": "6628ddb0",
   "metadata": {},
   "outputs": [],
   "source": [
    "IMG_SIZE = 64\n",
    "size = (IMG_SIZE,IMG_SIZE)"
   ]
  },
  {
   "cell_type": "code",
   "execution_count": 34,
   "id": "ccd6984e",
   "metadata": {},
   "outputs": [],
   "source": [
    "from tensorflow.keras import Input, Model, Sequential\n",
    "from tensorflow.keras.layers import Dense, Conv2D , MaxPooling2D, Flatten, Dropout\n",
    "from tensorflow.keras.callbacks import ModelCheckpoint, ReduceLROnPlateau, EarlyStopping\n",
    "from keras.preprocessing.image import ImageDataGenerator\n",
    "from tensorflow.keras.optimizers import SGD"
   ]
  },
  {
   "cell_type": "code",
   "execution_count": 35,
   "id": "c31e4543",
   "metadata": {},
   "outputs": [
    {
     "name": "stdout",
     "output_type": "stream",
     "text": [
      "Model: \"model\"\n",
      "_________________________________________________________________\n",
      "Layer (type)                 Output Shape              Param #   \n",
      "=================================================================\n",
      "input_1 (InputLayer)         [(None, 64, 64, 1)]       0         \n",
      "_________________________________________________________________\n",
      "conv2d (Conv2D)              (None, 64, 64, 32)        320       \n",
      "_________________________________________________________________\n",
      "max_pooling2d (MaxPooling2D) (None, 32, 32, 32)        0         \n",
      "_________________________________________________________________\n",
      "conv2d_1 (Conv2D)            (None, 32, 32, 64)        18496     \n",
      "_________________________________________________________________\n",
      "max_pooling2d_1 (MaxPooling2 (None, 16, 16, 64)        0         \n",
      "_________________________________________________________________\n",
      "conv2d_2 (Conv2D)            (None, 16, 16, 64)        36928     \n",
      "_________________________________________________________________\n",
      "max_pooling2d_2 (MaxPooling2 (None, 8, 8, 64)          0         \n",
      "_________________________________________________________________\n",
      "conv2d_3 (Conv2D)            (None, 8, 8, 128)         73856     \n",
      "_________________________________________________________________\n",
      "max_pooling2d_3 (MaxPooling2 (None, 4, 4, 128)         0         \n",
      "_________________________________________________________________\n",
      "conv2d_4 (Conv2D)            (None, 4, 4, 256)         295168    \n",
      "_________________________________________________________________\n",
      "max_pooling2d_4 (MaxPooling2 (None, 2, 2, 256)         0         \n",
      "_________________________________________________________________\n",
      "flatten (Flatten)            (None, 1024)              0         \n",
      "_________________________________________________________________\n",
      "dense (Dense)                (None, 32)                32800     \n",
      "_________________________________________________________________\n",
      "dropout (Dropout)            (None, 32)                0         \n",
      "_________________________________________________________________\n",
      "dense_1 (Dense)              (None, 3)                 99        \n",
      "=================================================================\n",
      "Total params: 457,667\n",
      "Trainable params: 457,667\n",
      "Non-trainable params: 0\n",
      "_________________________________________________________________\n"
     ]
    }
   ],
   "source": [
    "inputs = Input(shape = (64, 64, 1))\n",
    "conv1 =  Conv2D(32, (3,3), activation = 'tanh', padding = 'same', strides=(1,1), input_shape = [64,64,1])(inputs)\n",
    "pool1 = MaxPooling2D(2)(conv1)\n",
    "conv2 = Conv2D(64, (3,3), activation = 'tanh', padding = 'same', strides=(1,1))(pool1)\n",
    "pool2 = MaxPooling2D(2)(conv2)\n",
    "conv3 = Conv2D(64, (3,3), activation = 'tanh', padding = 'same', strides=(1,1))(pool2)\n",
    "pool3 = MaxPooling2D(2)(conv3)\n",
    "conv4 = Conv2D(128,(3,3), activation = 'tanh', padding = 'same', strides=(1,1))(pool3)\n",
    "pool4 = MaxPooling2D(2)(conv4)\n",
    "conv5 = Conv2D(256,(3,3), activation = 'tanh', padding = 'same', strides=(1,1))(pool4)\n",
    "pool5 = MaxPooling2D(2)(conv5)\n",
    "flatten = Flatten()(pool5)\n",
    "dense1 = Dense(32, activation = 'tanh')(flatten)\n",
    "dropout1 = Dropout(0.25)(dense1)\n",
    "outputs = Dense(3, activation = 'softmax')(dropout1)\n",
    "model = Model(inputs=inputs, outputs=outputs)\n",
    "\n",
    "\n",
    "model.summary()\n"
   ]
  },
  {
   "cell_type": "code",
   "execution_count": 36,
   "id": "128b7206",
   "metadata": {},
   "outputs": [
    {
     "name": "stdout",
     "output_type": "stream",
     "text": [
      "Found 2757 validated image filenames belonging to 3 classes.\n",
      "Found 307 validated image filenames belonging to 3 classes.\n",
      "Epoch 1/20\n",
      "2757/2757 [==============================] - 48s 17ms/step - loss: 0.7497 - accuracy: 0.6685 - val_loss: 0.5929 - val_accuracy: 0.7231\n",
      "Epoch 2/20\n",
      "2757/2757 [==============================] - 46s 17ms/step - loss: 0.5279 - accuracy: 0.7842 - val_loss: 0.5055 - val_accuracy: 0.7980\n",
      "Epoch 3/20\n",
      "2757/2757 [==============================] - 53s 19ms/step - loss: 0.4072 - accuracy: 0.8368 - val_loss: 0.4827 - val_accuracy: 0.8176\n",
      "Epoch 4/20\n",
      "2757/2757 [==============================] - 48s 17ms/step - loss: 0.3206 - accuracy: 0.8803 - val_loss: 0.2318 - val_accuracy: 0.9055\n",
      "Epoch 5/20\n",
      "2757/2757 [==============================] - 46s 17ms/step - loss: 0.2310 - accuracy: 0.9180 - val_loss: 0.3523 - val_accuracy: 0.8925\n",
      "Epoch 6/20\n",
      "2757/2757 [==============================] - 45s 16ms/step - loss: 0.1810 - accuracy: 0.9405 - val_loss: 0.3976 - val_accuracy: 0.8697\n",
      "Restoring model weights from the end of the best epoch.\n",
      "Epoch 00006: early stopping\n"
     ]
    }
   ],
   "source": [
    "datagen = ImageDataGenerator(rescale = 1./255)\n",
    "\n",
    "train_set = datagen.flow_from_dataframe(X_train,\n",
    "                                        directory = './brain_tumor_dataset/bt_images/',\n",
    "                                        x_col = 'image',\n",
    "                                        y_col = 'label',\n",
    "                                        target_size = size,\n",
    "                                        color_mode = 'grayscale',\n",
    "                                        class_mode = 'categorical',\n",
    "                                        batch_size = 1,\n",
    "                                        shuffle = True,\n",
    "                                        interpolation = 'bilinear')\n",
    "\n",
    "val_set = datagen.flow_from_dataframe(X_val,\n",
    "                                      directory = './brain_tumor_dataset/bt_images/',\n",
    "                                      x_col = 'image',\n",
    "                                      y_col = 'label',\n",
    "                                      target_size = size,\n",
    "                                      color_mode = 'grayscale',\n",
    "                                      class_mode = 'categorical',\n",
    "                                      batch_size = 1,\n",
    "                                      shuffle = True,\n",
    "                                      interpolation = 'bilinear')\n",
    "\n",
    "    \n",
    "\n",
    "model.compile(optimizer=\"sgd\",loss='categorical_crossentropy',metrics=['accuracy']) \n",
    "es = EarlyStopping(monitor='val_loss', mode='min', patience=2, restore_best_weights=True, verbose=1)\n",
    "checkpoint_cb = ModelCheckpoint(\"./models/bayesian.h5\", save_best_only=True)\n",
    "history = model.fit(train_set, validation_data = val_set, epochs= 20, callbacks=[checkpoint_cb, es])   "
   ]
  },
  {
   "cell_type": "code",
   "execution_count": 43,
   "id": "91b6d237",
   "metadata": {},
   "outputs": [],
   "source": [
    "def preprocess(img):\n",
    "    img = img.astype(np.float32)\n",
    "    img /= 255.0\n",
    "    img = np.expand_dims(img,0)\n",
    "    return img"
   ]
  },
  {
   "cell_type": "code",
   "execution_count": 44,
   "id": "1fb091a7",
   "metadata": {},
   "outputs": [],
   "source": [
    "val = X_val[\"image\"].values.tolist()"
   ]
  },
  {
   "cell_type": "code",
   "execution_count": 45,
   "id": "6a907701",
   "metadata": {},
   "outputs": [],
   "source": [
    "class_names = {0: \"glioma\", 1: \"meningoma\", 2:\"pituitary\"}\n",
    "d = 1\n",
    "iters = 600\n",
    "popsize = 10\n",
    "model_path = \"./models/bayesian.h5\""
   ]
  },
  {
   "cell_type": "code",
   "execution_count": 78,
   "id": "18da2afb",
   "metadata": {},
   "outputs": [],
   "source": [
    "import keras \n",
    "keras_model = keras.models.load_model(model_path)\n",
    "keras_model.compile(optimizer = \"sgd\", loss='categorical_crossentropy', metrics =['accuracy'])"
   ]
  },
  {
   "cell_type": "code",
   "execution_count": 68,
   "id": "06f3994c",
   "metadata": {},
   "outputs": [],
   "source": [
    "def perturb(x):\n",
    "    adv_img = orig.copy()\n",
    "\n",
    "    pixs = np.array(np.split(x, len(x)/3)).astype(int)\n",
    "    loc = (pixs[:, 0], pixs[:,1])\n",
    "    val = pixs[:, 2]\n",
    "    adv_img[loc] = val\n",
    "    adv_img = np.expand_dims(adv_img,0)\n",
    "    return adv_img"
   ]
  },
  {
   "cell_type": "code",
   "execution_count": 69,
   "id": "c27f76e8",
   "metadata": {},
   "outputs": [],
   "source": [
    "def optimize(x):\n",
    "    adv_img = perturb(x)\n",
    "\n",
    "    prob = keras_model.predict(preprocess(adv_img[0]))\n",
    "    pred_orig = np.argmax(prob_orig)\n",
    "\n",
    "    return prob[0][pred_orig]"
   ]
  },
  {
   "cell_type": "code",
   "execution_count": 70,
   "id": "a06d92f7",
   "metadata": {},
   "outputs": [],
   "source": [
    "pred_adv = 0\n",
    "prob_adv = 0\n",
    "ct = 0\n",
    "def callback(x, convergence):\n",
    "    global pred_adv, prob_adv, ct\n",
    "    adv_img = perturb(x)\n",
    "\n",
    "\n",
    "    prob = keras_model.predict(preprocess(adv_img[0]))\n",
    "\n",
    "    pred_adv = np.argmax(prob)\n",
    "    prob_adv = prob[0][pred_adv]\n",
    "    if pred_adv != pred_orig:\n",
    "        ct = ct+1\n",
    "        return True"
   ]
  },
  {
   "cell_type": "code",
   "execution_count": 71,
   "id": "ec7938d0",
   "metadata": {},
   "outputs": [
    {
     "name": "stdout",
     "output_type": "stream",
     "text": [
      "Prob [pituitary]: 0.901734 --> Prob[pituitary]: 0.806878\n",
      "Prob [glioma]: 0.904938 --> Prob[glioma]: 0.796120\n",
      "Prob [pituitary]: 0.982158 --> Prob[pituitary]: 0.961883\n",
      "Prob [pituitary]: 0.959297 --> Prob[pituitary]: 0.942415\n",
      "Prob [meningoma]: 0.665961 --> Prob[pituitary]: 0.507128\n",
      "Prob [glioma]: 0.984873 --> Prob[glioma]: 0.979944\n",
      "Prob [meningoma]: 0.988818 --> Prob[meningoma]: 0.985793\n",
      "Prob [pituitary]: 0.787028 --> Prob[pituitary]: 0.675887\n",
      "Prob [glioma]: 0.682220 --> Prob[glioma]: 0.578912\n",
      "Prob [pituitary]: 0.682680 --> Prob[pituitary]: 0.615938\n",
      "Prob [meningoma]: 0.985713 --> Prob[meningoma]: 0.980416\n",
      "Prob [meningoma]: 0.990916 --> Prob[meningoma]: 0.989114\n",
      "Prob [glioma]: 0.906895 --> Prob[glioma]: 0.849717\n",
      "Prob [pituitary]: 0.902777 --> Prob[pituitary]: 0.819178\n",
      "Prob [meningoma]: 0.961846 --> Prob[meningoma]: 0.952047\n",
      "Prob [meningoma]: 0.991218 --> Prob[meningoma]: 0.989799\n",
      "Prob [meningoma]: 0.956741 --> Prob[meningoma]: 0.949698\n",
      "Prob [meningoma]: 0.987661 --> Prob[meningoma]: 0.984366\n",
      "Prob [pituitary]: 0.820558 --> Prob[pituitary]: 0.703710\n",
      "Prob [meningoma]: 0.997744 --> Prob[meningoma]: 0.997563\n",
      "Prob [pituitary]: 0.782436 --> Prob[pituitary]: 0.640109\n",
      "Prob [meningoma]: 0.567495 --> Prob[meningoma]: 0.415858\n",
      "Prob [meningoma]: 0.703319 --> Prob[meningoma]: 0.669145\n",
      "Prob [pituitary]: 0.970762 --> Prob[pituitary]: 0.939890\n",
      "Prob [meningoma]: 0.991551 --> Prob[meningoma]: 0.989928\n",
      "Prob [meningoma]: 0.973557 --> Prob[meningoma]: 0.960790\n",
      "Prob [pituitary]: 0.973952 --> Prob[pituitary]: 0.948274\n",
      "Prob [meningoma]: 0.503487 --> Prob[glioma]: 0.458353\n",
      "Prob [meningoma]: 0.995406 --> Prob[meningoma]: 0.993510\n",
      "Prob [pituitary]: 0.373082 --> Prob[meningoma]: 0.341450\n",
      "Prob [meningoma]: 0.996274 --> Prob[meningoma]: 0.995584\n",
      "Prob [pituitary]: 0.989104 --> Prob[pituitary]: 0.981772\n",
      "Prob [meningoma]: 0.664529 --> Prob[meningoma]: 0.524941\n",
      "Prob [pituitary]: 0.847690 --> Prob[pituitary]: 0.797637\n",
      "Prob [pituitary]: 0.949478 --> Prob[pituitary]: 0.915114\n",
      "Prob [pituitary]: 0.896311 --> Prob[pituitary]: 0.818743\n",
      "Prob [glioma]: 0.961413 --> Prob[glioma]: 0.937256\n",
      "Prob [meningoma]: 0.826446 --> Prob[meningoma]: 0.764693\n",
      "Prob [pituitary]: 0.905176 --> Prob[pituitary]: 0.852808\n",
      "Prob [glioma]: 0.883677 --> Prob[glioma]: 0.826752\n",
      "Prob [pituitary]: 0.957783 --> Prob[pituitary]: 0.922984\n",
      "Prob [pituitary]: 0.942180 --> Prob[pituitary]: 0.903552\n",
      "Prob [glioma]: 0.995406 --> Prob[glioma]: 0.993677\n",
      "Prob [meningoma]: 0.995711 --> Prob[meningoma]: 0.995103\n",
      "Prob [meningoma]: 0.589700 --> Prob[glioma]: 0.533555\n",
      "Prob [meningoma]: 0.970227 --> Prob[meningoma]: 0.956600\n",
      "Prob [pituitary]: 0.875984 --> Prob[pituitary]: 0.748298\n",
      "Prob [meningoma]: 0.559943 --> Prob[pituitary]: 0.488072\n",
      "Prob [glioma]: 0.995178 --> Prob[glioma]: 0.993790\n",
      "Prob [meningoma]: 0.997908 --> Prob[meningoma]: 0.997685\n",
      "Prob [pituitary]: 0.731828 --> Prob[pituitary]: 0.510904\n",
      "Prob [meningoma]: 0.989287 --> Prob[meningoma]: 0.984750\n",
      "Prob [pituitary]: 0.975335 --> Prob[pituitary]: 0.957106\n",
      "Prob [glioma]: 0.912383 --> Prob[glioma]: 0.873058\n",
      "Prob [glioma]: 0.985553 --> Prob[glioma]: 0.980997\n",
      "Prob [meningoma]: 0.645163 --> Prob[meningoma]: 0.521612\n",
      "Prob [glioma]: 0.990884 --> Prob[glioma]: 0.988770\n",
      "Prob [meningoma]: 0.687272 --> Prob[meningoma]: 0.595547\n",
      "Prob [meningoma]: 0.934192 --> Prob[meningoma]: 0.904450\n",
      "Prob [meningoma]: 0.994549 --> Prob[meningoma]: 0.993839\n",
      "Prob [meningoma]: 0.986823 --> Prob[meningoma]: 0.979041\n",
      "Prob [pituitary]: 0.526903 --> Prob[glioma]: 0.508123\n",
      "Prob [pituitary]: 0.988837 --> Prob[pituitary]: 0.985336\n",
      "Prob [glioma]: 0.828254 --> Prob[glioma]: 0.686854\n",
      "Prob [pituitary]: 0.804488 --> Prob[pituitary]: 0.695881\n",
      "Prob [glioma]: 0.978284 --> Prob[glioma]: 0.968524\n",
      "Prob [meningoma]: 0.824801 --> Prob[meningoma]: 0.724158\n",
      "Prob [meningoma]: 0.993013 --> Prob[meningoma]: 0.989400\n",
      "Prob [meningoma]: 0.993889 --> Prob[meningoma]: 0.992805\n",
      "Prob [glioma]: 0.987971 --> Prob[glioma]: 0.977900\n",
      "Prob [pituitary]: 0.984572 --> Prob[pituitary]: 0.975314\n",
      "Prob [meningoma]: 0.995043 --> Prob[meningoma]: 0.993783\n",
      "Prob [meningoma]: 0.936582 --> Prob[meningoma]: 0.910353\n",
      "Prob [meningoma]: 0.432711 --> Prob[glioma]: 0.354610\n",
      "Prob [pituitary]: 0.895445 --> Prob[pituitary]: 0.844448\n",
      "Prob [meningoma]: 0.964064 --> Prob[meningoma]: 0.956982\n",
      "Prob [glioma]: 0.941771 --> Prob[glioma]: 0.927155\n",
      "Prob [glioma]: 0.931914 --> Prob[glioma]: 0.856163\n",
      "Prob [glioma]: 0.944789 --> Prob[glioma]: 0.912952\n",
      "Prob [pituitary]: 0.980920 --> Prob[pituitary]: 0.967348\n",
      "Prob [meningoma]: 0.997089 --> Prob[meningoma]: 0.996852\n",
      "Prob [glioma]: 0.994935 --> Prob[glioma]: 0.994193\n",
      "Prob [meningoma]: 0.982461 --> Prob[meningoma]: 0.978413\n",
      "Prob [meningoma]: 0.994160 --> Prob[meningoma]: 0.992420\n",
      "Prob [glioma]: 0.903465 --> Prob[glioma]: 0.847227\n",
      "Prob [meningoma]: 0.895137 --> Prob[meningoma]: 0.828454\n",
      "Prob [glioma]: 0.996146 --> Prob[glioma]: 0.995214\n",
      "Prob [meningoma]: 0.996096 --> Prob[meningoma]: 0.995549\n",
      "Prob [glioma]: 0.947193 --> Prob[glioma]: 0.889010\n",
      "Prob [pituitary]: 0.567213 --> Prob[pituitary]: 0.418509\n",
      "Prob [meningoma]: 0.997042 --> Prob[meningoma]: 0.996724\n",
      "Prob [pituitary]: 0.906653 --> Prob[pituitary]: 0.842986\n",
      "Prob [meningoma]: 0.994865 --> Prob[meningoma]: 0.993578\n",
      "Prob [meningoma]: 0.992609 --> Prob[meningoma]: 0.991928\n",
      "Prob [meningoma]: 0.995649 --> Prob[meningoma]: 0.994586\n",
      "Prob [glioma]: 0.994222 --> Prob[glioma]: 0.993396\n",
      "Prob [glioma]: 0.993475 --> Prob[glioma]: 0.992175\n",
      "Prob [glioma]: 0.988753 --> Prob[glioma]: 0.985792\n",
      "Prob [meningoma]: 0.987548 --> Prob[meningoma]: 0.984717\n",
      "Prob [glioma]: 0.949784 --> Prob[glioma]: 0.936786\n",
      "Prob [pituitary]: 0.890478 --> Prob[pituitary]: 0.838325\n",
      "Prob [glioma]: 0.988149 --> Prob[glioma]: 0.984117\n",
      "Prob [meningoma]: 0.590478 --> Prob[meningoma]: 0.455071\n",
      "Prob [meningoma]: 0.987756 --> Prob[meningoma]: 0.984314\n",
      "Prob [meningoma]: 0.868575 --> Prob[meningoma]: 0.783956\n",
      "Prob [meningoma]: 0.972785 --> Prob[meningoma]: 0.968143\n",
      "Prob [meningoma]: 0.813590 --> Prob[meningoma]: 0.710038\n",
      "Prob [meningoma]: 0.997038 --> Prob[meningoma]: 0.996709\n",
      "Prob [meningoma]: 0.929538 --> Prob[meningoma]: 0.893181\n",
      "Prob [glioma]: 0.852760 --> Prob[glioma]: 0.721071\n",
      "Prob [pituitary]: 0.950265 --> Prob[pituitary]: 0.907836\n",
      "Prob [meningoma]: 0.774063 --> Prob[meningoma]: 0.659897\n",
      "Prob [glioma]: 0.462948 --> Prob[glioma]: 0.402392\n",
      "Prob [meningoma]: 0.997573 --> Prob[meningoma]: 0.997340\n",
      "Prob [meningoma]: 0.992273 --> Prob[meningoma]: 0.990133\n",
      "Prob [pituitary]: 0.733758 --> Prob[pituitary]: 0.478234\n",
      "Prob [meningoma]: 0.974137 --> Prob[meningoma]: 0.962722\n",
      "Prob [meningoma]: 0.990435 --> Prob[meningoma]: 0.987976\n",
      "Prob [pituitary]: 0.940147 --> Prob[pituitary]: 0.866451\n",
      "Prob [meningoma]: 0.532652 --> Prob[glioma]: 0.509748\n",
      "Prob [meningoma]: 0.995488 --> Prob[meningoma]: 0.994350\n",
      "Prob [meningoma]: 0.995821 --> Prob[meningoma]: 0.995161\n",
      "Prob [pituitary]: 0.958833 --> Prob[pituitary]: 0.925964\n",
      "Prob [meningoma]: 0.509827 --> Prob[glioma]: 0.506095\n",
      "Prob [meningoma]: 0.992419 --> Prob[meningoma]: 0.990780\n",
      "Prob [glioma]: 0.959987 --> Prob[glioma]: 0.947857\n",
      "Prob [glioma]: 0.954718 --> Prob[glioma]: 0.932132\n",
      "Prob [meningoma]: 0.625496 --> Prob[meningoma]: 0.519301\n",
      "Prob [meningoma]: 0.516541 --> Prob[glioma]: 0.512246\n",
      "Prob [glioma]: 0.989770 --> Prob[glioma]: 0.985984\n",
      "Prob [meningoma]: 0.778802 --> Prob[meningoma]: 0.660503\n",
      "Prob [meningoma]: 0.668703 --> Prob[meningoma]: 0.545391\n",
      "Prob [meningoma]: 0.708924 --> Prob[meningoma]: 0.566206\n",
      "Prob [glioma]: 0.901270 --> Prob[glioma]: 0.842117\n",
      "Prob [meningoma]: 0.541979 --> Prob[glioma]: 0.483292\n",
      "Prob [meningoma]: 0.988449 --> Prob[meningoma]: 0.986711\n",
      "Prob [meningoma]: 0.979373 --> Prob[meningoma]: 0.972277\n",
      "Prob [pituitary]: 0.905264 --> Prob[pituitary]: 0.877197\n",
      "Prob [pituitary]: 0.952200 --> Prob[pituitary]: 0.886121\n",
      "Prob [glioma]: 0.937423 --> Prob[glioma]: 0.900771\n",
      "Prob [meningoma]: 0.984428 --> Prob[meningoma]: 0.978593\n",
      "Prob [meningoma]: 0.993389 --> Prob[meningoma]: 0.991421\n",
      "Prob [meningoma]: 0.989145 --> Prob[meningoma]: 0.985974\n",
      "Prob [glioma]: 0.851695 --> Prob[glioma]: 0.767081\n",
      "Prob [meningoma]: 0.981384 --> Prob[meningoma]: 0.974418\n",
      "Prob [pituitary]: 0.846567 --> Prob[pituitary]: 0.801382\n",
      "Prob [meningoma]: 0.996026 --> Prob[meningoma]: 0.995415\n",
      "Prob [meningoma]: 0.956391 --> Prob[meningoma]: 0.923559\n"
     ]
    },
    {
     "name": "stdout",
     "output_type": "stream",
     "text": [
      "Prob [pituitary]: 0.625959 --> Prob[pituitary]: 0.518598\n",
      "Prob [glioma]: 0.515899 --> Prob[meningoma]: 0.565002\n",
      "Prob [meningoma]: 0.815260 --> Prob[meningoma]: 0.754106\n",
      "Prob [meningoma]: 0.992194 --> Prob[meningoma]: 0.990823\n",
      "Prob [meningoma]: 0.947393 --> Prob[meningoma]: 0.924781\n",
      "Prob [meningoma]: 0.531600 --> Prob[pituitary]: 0.531350\n",
      "Prob [pituitary]: 0.880019 --> Prob[pituitary]: 0.821537\n",
      "Prob [pituitary]: 0.971088 --> Prob[pituitary]: 0.958992\n",
      "Prob [meningoma]: 0.680097 --> Prob[meningoma]: 0.545762\n",
      "Prob [glioma]: 0.976345 --> Prob[glioma]: 0.959182\n",
      "Prob [meningoma]: 0.864588 --> Prob[meningoma]: 0.775403\n",
      "Prob [glioma]: 0.597112 --> Prob[meningoma]: 0.537471\n",
      "Prob [pituitary]: 0.839114 --> Prob[pituitary]: 0.788646\n",
      "Prob [meningoma]: 0.968989 --> Prob[meningoma]: 0.955738\n",
      "Prob [glioma]: 0.744770 --> Prob[glioma]: 0.642030\n",
      "Prob [pituitary]: 0.966416 --> Prob[pituitary]: 0.945066\n",
      "Prob [meningoma]: 0.716715 --> Prob[meningoma]: 0.659017\n",
      "Prob [meningoma]: 0.873255 --> Prob[meningoma]: 0.803778\n",
      "Prob [meningoma]: 0.982398 --> Prob[meningoma]: 0.976021\n",
      "Prob [meningoma]: 0.943073 --> Prob[meningoma]: 0.906207\n",
      "Prob [pituitary]: 0.921866 --> Prob[pituitary]: 0.885689\n",
      "Prob [pituitary]: 0.586211 --> Prob[meningoma]: 0.466837\n",
      "Prob [glioma]: 0.777412 --> Prob[glioma]: 0.713454\n",
      "Prob [meningoma]: 0.987357 --> Prob[meningoma]: 0.985189\n",
      "Prob [pituitary]: 0.978071 --> Prob[pituitary]: 0.960935\n",
      "Prob [pituitary]: 0.809841 --> Prob[pituitary]: 0.703487\n",
      "Prob [pituitary]: 0.985618 --> Prob[pituitary]: 0.978734\n",
      "Prob [pituitary]: 0.818507 --> Prob[pituitary]: 0.646617\n",
      "Prob [pituitary]: 0.575577 --> Prob[pituitary]: 0.466619\n",
      "Prob [meningoma]: 0.994441 --> Prob[meningoma]: 0.993863\n",
      "Prob [glioma]: 0.961555 --> Prob[glioma]: 0.945347\n",
      "Prob [meningoma]: 0.992922 --> Prob[meningoma]: 0.990335\n",
      "Prob [meningoma]: 0.964786 --> Prob[meningoma]: 0.958009\n",
      "Prob [glioma]: 0.553010 --> Prob[meningoma]: 0.489997\n",
      "Prob [meningoma]: 0.887332 --> Prob[meningoma]: 0.846596\n",
      "Prob [pituitary]: 0.623581 --> Prob[meningoma]: 0.485243\n",
      "Prob [meningoma]: 0.994675 --> Prob[meningoma]: 0.993909\n",
      "Prob [meningoma]: 0.912902 --> Prob[meningoma]: 0.841794\n",
      "Prob [meningoma]: 0.994006 --> Prob[meningoma]: 0.992592\n",
      "Prob [meningoma]: 0.612096 --> Prob[glioma]: 0.509424\n",
      "Prob [meningoma]: 0.927073 --> Prob[meningoma]: 0.906238\n",
      "Prob [meningoma]: 0.862599 --> Prob[meningoma]: 0.763592\n",
      "Prob [glioma]: 0.907024 --> Prob[glioma]: 0.838664\n",
      "Prob [pituitary]: 0.975992 --> Prob[pituitary]: 0.964318\n",
      "Prob [glioma]: 0.984030 --> Prob[glioma]: 0.977345\n",
      "Prob [meningoma]: 0.960461 --> Prob[meningoma]: 0.954407\n",
      "Prob [pituitary]: 0.975481 --> Prob[pituitary]: 0.951994\n",
      "Prob [pituitary]: 0.721925 --> Prob[pituitary]: 0.605318\n",
      "Prob [meningoma]: 0.984338 --> Prob[meningoma]: 0.980171\n",
      "Prob [glioma]: 0.633380 --> Prob[glioma]: 0.504148\n",
      "Prob [meningoma]: 0.990975 --> Prob[meningoma]: 0.989347\n",
      "Prob [glioma]: 0.794936 --> Prob[glioma]: 0.734489\n",
      "Prob [glioma]: 0.884340 --> Prob[glioma]: 0.849267\n",
      "Prob [meningoma]: 0.804146 --> Prob[meningoma]: 0.735297\n",
      "Prob [meningoma]: 0.975769 --> Prob[meningoma]: 0.969446\n",
      "Prob [meningoma]: 0.695749 --> Prob[meningoma]: 0.521891\n",
      "Prob [glioma]: 0.989447 --> Prob[glioma]: 0.987667\n",
      "Prob [meningoma]: 0.907914 --> Prob[meningoma]: 0.823214\n",
      "Prob [pituitary]: 0.984464 --> Prob[pituitary]: 0.967811\n",
      "Prob [meningoma]: 0.958491 --> Prob[meningoma]: 0.947093\n",
      "Prob [glioma]: 0.993476 --> Prob[glioma]: 0.992648\n",
      "Prob [meningoma]: 0.978795 --> Prob[meningoma]: 0.967577\n",
      "Prob [glioma]: 0.965118 --> Prob[glioma]: 0.938951\n",
      "Prob [meningoma]: 0.997214 --> Prob[meningoma]: 0.996990\n",
      "Prob [pituitary]: 0.933929 --> Prob[pituitary]: 0.909201\n",
      "Prob [meningoma]: 0.635202 --> Prob[meningoma]: 0.539142\n",
      "Prob [pituitary]: 0.983429 --> Prob[pituitary]: 0.972226\n",
      "Prob [pituitary]: 0.981691 --> Prob[pituitary]: 0.970061\n",
      "Prob [pituitary]: 0.948447 --> Prob[pituitary]: 0.902397\n",
      "Prob [pituitary]: 0.973935 --> Prob[pituitary]: 0.930066\n",
      "Prob [meningoma]: 0.692671 --> Prob[meningoma]: 0.513992\n",
      "Prob [pituitary]: 0.856538 --> Prob[pituitary]: 0.746905\n",
      "Prob [meningoma]: 0.792418 --> Prob[meningoma]: 0.700419\n",
      "Prob [glioma]: 0.993369 --> Prob[glioma]: 0.992191\n",
      "Prob [glioma]: 0.464459 --> Prob[pituitary]: 0.462354\n",
      "Prob [meningoma]: 0.909769 --> Prob[meningoma]: 0.859974\n",
      "Prob [meningoma]: 0.997385 --> Prob[meningoma]: 0.997136\n",
      "Prob [meningoma]: 0.954825 --> Prob[meningoma]: 0.940681\n",
      "Prob [glioma]: 0.921303 --> Prob[glioma]: 0.881587\n",
      "Prob [meningoma]: 0.901534 --> Prob[meningoma]: 0.843765\n",
      "Prob [glioma]: 0.995871 --> Prob[glioma]: 0.995330\n",
      "Prob [glioma]: 0.925062 --> Prob[glioma]: 0.880177\n",
      "Prob [meningoma]: 0.982547 --> Prob[meningoma]: 0.972479\n",
      "Prob [glioma]: 0.994535 --> Prob[glioma]: 0.993279\n",
      "Prob [glioma]: 0.983953 --> Prob[glioma]: 0.978700\n",
      "Prob [meningoma]: 0.975394 --> Prob[meningoma]: 0.954998\n",
      "Prob [pituitary]: 0.942821 --> Prob[pituitary]: 0.889328\n",
      "Prob [meningoma]: 0.995716 --> Prob[meningoma]: 0.994383\n",
      "Prob [pituitary]: 0.455201 --> Prob[pituitary]: 0.401240\n",
      "Prob [meningoma]: 0.744151 --> Prob[meningoma]: 0.630709\n",
      "Prob [meningoma]: 0.983310 --> Prob[meningoma]: 0.978756\n",
      "Prob [glioma]: 0.904956 --> Prob[glioma]: 0.858662\n",
      "Prob [meningoma]: 0.918619 --> Prob[meningoma]: 0.884332\n",
      "Prob [pituitary]: 0.907554 --> Prob[pituitary]: 0.790013\n",
      "Prob [glioma]: 0.992136 --> Prob[glioma]: 0.990492\n",
      "Prob [meningoma]: 0.974740 --> Prob[meningoma]: 0.969104\n",
      "Prob [glioma]: 0.523960 --> Prob[glioma]: 0.431661\n",
      "Prob [pituitary]: 0.923650 --> Prob[pituitary]: 0.854461\n",
      "Prob [meningoma]: 0.583477 --> Prob[glioma]: 0.500923\n",
      "Prob [meningoma]: 0.989715 --> Prob[meningoma]: 0.985119\n",
      "Prob [meningoma]: 0.563604 --> Prob[meningoma]: 0.503964\n",
      "Prob [meningoma]: 0.994379 --> Prob[meningoma]: 0.993363\n",
      "Prob [meningoma]: 0.997735 --> Prob[meningoma]: 0.997550\n",
      "Prob [meningoma]: 0.989919 --> Prob[meningoma]: 0.987558\n",
      "Prob [pituitary]: 0.899978 --> Prob[pituitary]: 0.869359\n",
      "Prob [glioma]: 0.587155 --> Prob[meningoma]: 0.500659\n",
      "Prob [pituitary]: 0.881767 --> Prob[pituitary]: 0.787065\n",
      "Prob [glioma]: 0.955866 --> Prob[glioma]: 0.937887\n",
      "Prob [meningoma]: 0.916038 --> Prob[meningoma]: 0.848674\n",
      "Prob [glioma]: 0.987258 --> Prob[glioma]: 0.983464\n",
      "Prob [meningoma]: 0.562466 --> Prob[glioma]: 0.596178\n",
      "Prob [glioma]: 0.827152 --> Prob[glioma]: 0.764413\n",
      "Prob [glioma]: 0.887620 --> Prob[glioma]: 0.813349\n",
      "Prob [meningoma]: 0.992314 --> Prob[meningoma]: 0.990188\n",
      "Prob [glioma]: 0.992771 --> Prob[glioma]: 0.990972\n",
      "Prob [glioma]: 0.877016 --> Prob[glioma]: 0.849573\n",
      "Prob [meningoma]: 0.997955 --> Prob[meningoma]: 0.997736\n",
      "Prob [meningoma]: 0.997572 --> Prob[meningoma]: 0.997351\n",
      "Prob [pituitary]: 0.972484 --> Prob[pituitary]: 0.960422\n",
      "Prob [meningoma]: 0.990350 --> Prob[meningoma]: 0.988924\n",
      "Prob [glioma]: 0.776110 --> Prob[glioma]: 0.673400\n",
      "Prob [pituitary]: 0.676082 --> Prob[glioma]: 0.499723\n",
      "Prob [pituitary]: 0.887573 --> Prob[pituitary]: 0.855484\n",
      "Prob [meningoma]: 0.833657 --> Prob[meningoma]: 0.791762\n",
      "Prob [glioma]: 0.875977 --> Prob[glioma]: 0.838247\n",
      "Prob [pituitary]: 0.651089 --> Prob[meningoma]: 0.522355\n",
      "Prob [pituitary]: 0.982787 --> Prob[pituitary]: 0.965641\n",
      "Prob [meningoma]: 0.782464 --> Prob[meningoma]: 0.701341\n",
      "Prob [meningoma]: 0.996313 --> Prob[meningoma]: 0.995905\n",
      "Prob [meningoma]: 0.989300 --> Prob[meningoma]: 0.978291\n",
      "Prob [pituitary]: 0.832961 --> Prob[pituitary]: 0.622050\n",
      "Prob [meningoma]: 0.926166 --> Prob[meningoma]: 0.889733\n",
      "Prob [meningoma]: 0.964868 --> Prob[meningoma]: 0.958081\n",
      "Prob [meningoma]: 0.540172 --> Prob[pituitary]: 0.511685\n",
      "Prob [meningoma]: 0.867247 --> Prob[meningoma]: 0.837185\n",
      "Prob [meningoma]: 0.996964 --> Prob[meningoma]: 0.996531\n",
      "Prob [meningoma]: 0.862620 --> Prob[meningoma]: 0.810523\n",
      "Prob [pituitary]: 0.835752 --> Prob[pituitary]: 0.651233\n",
      "Prob [pituitary]: 0.717330 --> Prob[pituitary]: 0.575025\n",
      "Prob [meningoma]: 0.967808 --> Prob[meningoma]: 0.954266\n",
      "Prob [meningoma]: 0.910603 --> Prob[meningoma]: 0.876777\n",
      "Prob [meningoma]: 0.997818 --> Prob[meningoma]: 0.997528\n",
      "Prob [meningoma]: 0.694185 --> Prob[meningoma]: 0.578902\n",
      "Prob [meningoma]: 0.643993 --> Prob[meningoma]: 0.546512\n",
      "Prob [meningoma]: 0.957232 --> Prob[meningoma]: 0.944746\n",
      "Prob [meningoma]: 0.987660 --> Prob[meningoma]: 0.982995\n",
      "Prob [pituitary]: 0.899296 --> Prob[pituitary]: 0.814198\n",
      "Prob [meningoma]: 0.889868 --> Prob[meningoma]: 0.837686\n"
     ]
    },
    {
     "name": "stdout",
     "output_type": "stream",
     "text": [
      "Prob [meningoma]: 0.996108 --> Prob[meningoma]: 0.995642\n",
      "Prob [glioma]: 0.990569 --> Prob[glioma]: 0.986458\n",
      "Prob [meningoma]: 0.741138 --> Prob[meningoma]: 0.624828\n",
      "Prob [glioma]: 0.992756 --> Prob[glioma]: 0.991519\n",
      "Prob [pituitary]: 0.919682 --> Prob[pituitary]: 0.880199\n",
      "Prob [pituitary]: 0.974575 --> Prob[pituitary]: 0.958114\n",
      "Prob [glioma]: 0.941342 --> Prob[glioma]: 0.924174\n",
      "Prob [glioma]: 0.798852 --> Prob[glioma]: 0.686370\n",
      "Prob [pituitary]: 0.986998 --> Prob[pituitary]: 0.983021\n",
      "Prob [meningoma]: 0.916465 --> Prob[meningoma]: 0.870718\n",
      "Prob [meningoma]: 0.920977 --> Prob[meningoma]: 0.840763\n"
     ]
    }
   ],
   "source": [
    "from scipy.optimize import differential_evolution\n",
    "\n",
    "for filename in val:\n",
    "    pred_adv = 0\n",
    "    prob_adv = 0\n",
    "    orig = cv2.imread(os.path.join(\"./brain_tumor_dataset/bt_images/\",filename))\n",
    "    orig = cv2.cvtColor(orig, cv2.COLOR_BGR2GRAY)\n",
    "    orig = cv2.resize(orig, size)\n",
    "    \n",
    "    img = orig.copy()\n",
    "    img = img.reshape(64,64,1)\n",
    "    img = np.expand_dims(img,0)\n",
    "    shape = img.shape\n",
    "    \n",
    "    \n",
    "    prob_orig = keras_model.predict(preprocess(img[0]))\n",
    "    pred_orig = np.argmax(prob_orig)\n",
    "\n",
    "    bounds = [(0, shape[1]-1), (0, shape[2]-1), (0, 255)] * d\n",
    "    result = differential_evolution(optimize, bounds, maxiter=iters, popsize=popsize, tol=1e-5, callback=callback)\n",
    "\n",
    "    adv_img = perturb(result.x)\n",
    "\n",
    "\n",
    "    prob = keras_model.predict(preprocess(adv_img[0]))\n",
    "    print('Prob [%s]: %f --> Prob[%s]: %f' %(class_names[pred_orig], prob_orig[0][pred_orig], class_names[pred_adv], prob_adv))\n",
    "\n",
    "    if(pred_orig != pred_adv):\n",
    "        cv2.imwrite('./bayesian_outputs/'+filename, adv_img[0])"
   ]
  },
  {
   "cell_type": "code",
   "execution_count": 72,
   "id": "bfb1e1a5",
   "metadata": {},
   "outputs": [
    {
     "name": "stdout",
     "output_type": "stream",
     "text": [
      "25\n"
     ]
    }
   ],
   "source": [
    "print(ct)"
   ]
  },
  {
   "cell_type": "code",
   "execution_count": 73,
   "id": "6968357f",
   "metadata": {},
   "outputs": [
    {
     "name": "stdout",
     "output_type": "stream",
     "text": [
      "Found 25 validated image filenames belonging to 3 classes.\n"
     ]
    },
    {
     "name": "stderr",
     "output_type": "stream",
     "text": [
      "D:\\Softwares\\anaconda\\envs\\tf-gpu\\lib\\site-packages\\keras_preprocessing\\image\\dataframe_iterator.py:279: UserWarning: Found 282 invalid image filename(s) in x_col=\"image\". These filename(s) will be ignored.\n",
      "  warnings.warn(\n"
     ]
    }
   ],
   "source": [
    "datagen = ImageDataGenerator(rescale = 1./255)\n",
    "adv_set = datagen.flow_from_dataframe(X_val,\n",
    "                                      directory = './bayesian_outputs/',\n",
    "                                      x_col = 'image',\n",
    "                                      y_col = 'label',\n",
    "                                      target_size = size,\n",
    "                                      color_mode = 'grayscale',\n",
    "                                      class_mode = 'categorical',\n",
    "                                      batch_size = 1,\n",
    "                                      shuffle = True,\n",
    "                                      interpolation = 'bilinear')"
   ]
  },
  {
   "cell_type": "code",
   "execution_count": 74,
   "id": "29dfe9e9",
   "metadata": {},
   "outputs": [
    {
     "name": "stdout",
     "output_type": "stream",
     "text": [
      "25/25 [==============================] - 1s 6ms/step - loss: 0.7349 - accuracy: 0.5600\n"
     ]
    }
   ],
   "source": [
    "predict = keras_model.evaluate(adv_set)"
   ]
  },
  {
   "cell_type": "code",
   "execution_count": 79,
   "id": "7858e42f",
   "metadata": {},
   "outputs": [],
   "source": [
    "path = './bayesian_outputs/'\n",
    "adv = importing_data(path)\n",
    "adv_df = pd.DataFrame({'image':adv})\n",
    "val_df = X_val[~X_val.image.isin(adv_df.image)]"
   ]
  },
  {
   "cell_type": "code",
   "execution_count": 85,
   "id": "272a1963",
   "metadata": {},
   "outputs": [
    {
     "name": "stdout",
     "output_type": "stream",
     "text": [
      "Found 282 validated image filenames belonging to 3 classes.\n"
     ]
    }
   ],
   "source": [
    "val_set = datagen.flow_from_dataframe(val_df,\n",
    "                                      directory = './brain_tumor_dataset/bt_images/',\n",
    "                                      x_col = 'image',\n",
    "                                      y_col = 'label',\n",
    "                                      target_size = size,\n",
    "                                      color_mode = 'grayscale',\n",
    "                                      class_mode = 'categorical',\n",
    "                                      batch_size = 1,\n",
    "                                      shuffle = True,\n",
    "                                      interpolation = 'bilinear')"
   ]
  },
  {
   "cell_type": "code",
   "execution_count": 86,
   "id": "ede9d0af",
   "metadata": {},
   "outputs": [
    {
     "name": "stdout",
     "output_type": "stream",
     "text": [
      "282/282 [==============================] - 1s 5ms/step - loss: 0.1906 - accuracy: 0.9362\n"
     ]
    },
    {
     "data": {
      "text/plain": [
       "[0.1906488686800003, 0.936170220375061]"
      ]
     },
     "execution_count": 86,
     "metadata": {},
     "output_type": "execute_result"
    }
   ],
   "source": [
    "keras_model.evaluate(val_set)"
   ]
  },
  {
   "cell_type": "code",
   "execution_count": 77,
   "id": "78ed37aa",
   "metadata": {},
   "outputs": [
    {
     "name": "stdout",
     "output_type": "stream",
     "text": [
      "Epoch 1/50\n",
      "25/25 [==============================] - 2s 65ms/step - loss: 1.2527 - accuracy: 0.4400 - val_loss: 0.5815 - val_accuracy: 0.7557\n",
      "Epoch 2/50\n",
      "25/25 [==============================] - 1s 57ms/step - loss: 0.3514 - accuracy: 0.8400 - val_loss: 0.2971 - val_accuracy: 0.8925\n",
      "Epoch 3/50\n",
      "25/25 [==============================] - 1s 57ms/step - loss: 0.0631 - accuracy: 1.0000 - val_loss: 0.3145 - val_accuracy: 0.8762\n",
      "Epoch 4/50\n",
      "25/25 [==============================] - 1s 58ms/step - loss: 0.0511 - accuracy: 1.0000 - val_loss: 0.3198 - val_accuracy: 0.8827\n",
      "Restoring model weights from the end of the best epoch.\n",
      "Epoch 00004: early stopping\n"
     ]
    }
   ],
   "source": [
    "es = EarlyStopping(monitor='val_loss', mode='min', patience=2, restore_best_weights=True, verbose=1)\n",
    "\n",
    "checkpoint_cb = ModelCheckpoint(\"./models/bayesian_adversarial.h5\", save_best_only=True)\n",
    "\n",
    "history_adv = keras_model.fit(adv_set, validation_data = val_set, epochs= 50, batch_size = 1, callbacks=[es, checkpoint_cb, reduce_lr])   "
   ]
  },
  {
   "cell_type": "code",
   "execution_count": null,
   "id": "a68b0a35",
   "metadata": {},
   "outputs": [],
   "source": [
    "from scipy.optimize import differential_evolution\n",
    "\n",
    "for filename in val:\n",
    "    pred_adv = 0\n",
    "    prob_adv = 0\n",
    "    orig = cv2.imread(os.path.join(\"./brain_tumor_dataset/bt_images/\",filename))\n",
    "    orig = cv2.cvtColor(orig, cv2.COLOR_BGR2GRAY)\n",
    "    orig = cv2.resize(orig, size)\n",
    "    \n",
    "    img = orig.copy()\n",
    "    img = img.reshape(64,64,1)\n",
    "    img = np.expand_dims(img,0)\n",
    "    shape = img.shape\n",
    "    \n",
    "    \n",
    "    prob_orig = keras_model.predict(preprocess(img[0]))\n",
    "    pred_orig = np.argmax(prob_orig)\n",
    "\n",
    "    bounds = [(0, shape[1]-1), (0, shape[2]-1), (0, 255)] * d\n",
    "    result = differential_evolution(optimize, bounds, maxiter=iters, popsize=popsize, tol=1e-5, callback=callback)\n",
    "\n",
    "    adv_img = perturb(result.x)\n",
    "\n",
    "    prob = keras_model.predict(preprocess(adv_img[0]))\n",
    "    print('Prob [%s]: %f --> Prob[%s]: %f ' %(class_names[pred_orig], prob_orig[0][pred_orig], class_names[pred_adv], prob_adv))"
   ]
  },
  {
   "cell_type": "code",
   "execution_count": null,
   "id": "459fdb94",
   "metadata": {},
   "outputs": [],
   "source": [
    "calculate_ssim(adv_img[0], orig)"
   ]
  },
  {
   "cell_type": "code",
   "execution_count": null,
   "id": "c59fe8fb",
   "metadata": {},
   "outputs": [],
   "source": []
  }
 ],
 "metadata": {
  "kernelspec": {
   "display_name": "Python 3 (ipykernel)",
   "language": "python",
   "name": "python3"
  },
  "language_info": {
   "codemirror_mode": {
    "name": "ipython",
    "version": 3
   },
   "file_extension": ".py",
   "mimetype": "text/x-python",
   "name": "python",
   "nbconvert_exporter": "python",
   "pygments_lexer": "ipython3",
   "version": "3.9.7"
  }
 },
 "nbformat": 4,
 "nbformat_minor": 5
}
